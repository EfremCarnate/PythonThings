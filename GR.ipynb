{
 "cells": [
  {
   "cell_type": "code",
   "execution_count": 58,
   "metadata": {},
   "outputs": [
    {
     "name": "stdout",
     "output_type": "stream",
     "text": [
      "4.580667023887686e+17\n",
      "6549592176377635.0\n"
     ]
    },
    {
     "name": "stderr",
     "output_type": "stream",
     "text": [
      "/var/folders/x4/kmg6304d077gr2n9gn18mh0w0000gn/T/ipykernel_50503/2946226703.py:26: RuntimeWarning: overflow encountered in exp\n",
      "  return np.sqrt(1 / ((m * np.exp(-3*x)) + (r * np.exp(-4*x)) + l))\n"
     ]
    }
   ],
   "source": [
    "import numpy as np \n",
    "import matplotlib.pyplot as plt \n",
    "import scipy \n",
    "\n",
    "from scipy.integrate import solve_ivp \n",
    "from scipy.integrate import odeint \n",
    "\n",
    "G = 6.67e-11 \n",
    "#pc = 9.2e-27 #for h=0.7 \n",
    "pc = 8.529e-27 #for h=-0.674 \n",
    "#pc = 1.028e-26 #for h=0.74 \n",
    "C = 8 * np.pi * G * pc \n",
    "C = 3 / C \n",
    "C = np.sqrt(C) \n",
    "print(C) \n",
    "\n",
    "m = 0.314 #for h = 0.674\n",
    "#m = 0.260 #for h=0.74  \n",
    "r = 5.482e-5 #for h = 0.674\n",
    "#r = 4.549e-5 #for h = 0.74 \n",
    "l = 0.686 #for h = 0.674\n",
    "#l = 0.740 #for h = 0.74\n",
    "\n",
    "a = np.log(1/19) \n",
    "def F(x): \n",
    "    return np.sqrt(1 / ((m * np.exp(-3*x)) + (r * np.exp(-4*x)) + l))\n",
    "I = scipy.integrate.quad(F, -np.inf, a)     \n",
    "i = I[0]*C \n",
    "print(i)   \n",
    "\n"
   ]
  },
  {
   "cell_type": "code",
   "execution_count": 43,
   "metadata": {},
   "outputs": [
    {
     "name": "stdout",
     "output_type": "stream",
     "text": [
      "1.5779093373583794e+26\n"
     ]
    }
   ],
   "source": [
    "G = 6.67e-11 \n",
    "pc = 8.529e-27 \n",
    "s = 299792458 \n",
    "C = 8 * np.pi * G * pc \n",
    "C = 3 / C  \n",
    "C = np.sqrt(C) \n",
    "C = s * C  \n",
    "\n",
    "m = 0.314 \n",
    "r = 5.482e-5 \n",
    "l = 0.686 \n",
    "\n",
    "def G(x): \n",
    "    out = np.sqrt(1 / ((m * np.exp(-3*x)) + (r * np.exp(-4*x)) + l)) \n",
    "    out = out * np.exp(-x) \n",
    "    return out \n",
    "\n",
    "I2 = scipy.integrate.quad(G, -1.0525, 0) \n",
    "K = I2[0] * C \n",
    "print(K) "
   ]
  },
  {
   "cell_type": "code",
   "execution_count": null,
   "metadata": {},
   "outputs": [],
   "source": [
    "1.577928991484233e+26 "
   ]
  }
 ],
 "metadata": {
  "kernelspec": {
   "display_name": "Python 3.10.4 64-bit",
   "language": "python",
   "name": "python3"
  },
  "language_info": {
   "codemirror_mode": {
    "name": "ipython",
    "version": 3
   },
   "file_extension": ".py",
   "mimetype": "text/x-python",
   "name": "python",
   "nbconvert_exporter": "python",
   "pygments_lexer": "ipython3",
   "version": "3.10.4"
  },
  "orig_nbformat": 4,
  "vscode": {
   "interpreter": {
    "hash": "aee8b7b246df8f9039afb4144a1f6fd8d2ca17a180786b69acc140d282b71a49"
   }
  }
 },
 "nbformat": 4,
 "nbformat_minor": 2
}
