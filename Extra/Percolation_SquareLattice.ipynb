{
 "cells": [
  {
   "cell_type": "markdown",
   "metadata": {},
   "source": [
    "# Percolation in 2D\n",
    "Elke Pahl, September 2022, University of Auckland\n",
    "***"
   ]
  },
  {
   "cell_type": "markdown",
   "metadata": {},
   "source": [
    "## Square Lattice\n"
   ]
  },
  {
   "cell_type": "markdown",
   "metadata": {},
   "source": [
    "Let's look at how real-space renormalization works for site percolation on a square lattice of length $L$; where the occupation probability of a site is given by $p$. We initialize an ($L\\times L$) lattice (realized by a numpy array called ```Lattice```), so that sites are occupied with the probability $p$. A value of 1 and 0 is assigned to occupied and unoccupied sites, respectively. We will investigate different coarse graining procedures with different real-space transformation functions of the occupation probability $R_b(p)$. See lecture slides p.55ff for more information.\n",
    "\n",
    "1. The implementation below realizes the ***majority rule***, which works only for odd scaling factors $b$. The function realizing this renormalizaton is called ```LatticeRen(L,b,lattice)```. Use of ```b = 3``` is recommended, in order to keep the number of lattice points managable. We start with a large lattice, eg. $L = b^7$. We then divide the whole lattice into ($b\\times b$) blocks of sites and substitute every block by only one site. The site is occupied when the majority of sites of the ($b\\times b$) blocks were occupied, otherwise it is not occupied.\n",
    "\n",
    "*  Try to approximately locate the non-trivial fix point by doing several renormalization steps (variable ```Nren```, start with ```Nren=4```) varying the occupation probability $p$. \n",
    "\n",
    "* Derive the real-space transformation function of the occupation probability $R_b(p)$ for the majority-rule case (see slide 61 for the triangular (honeycomb) lattice).\n",
    " \n",
    "* The second code cell allows you to plot $R_b(p)$ and locate the fixpoints exactly. \n",
    "\n",
    "\n",
    "2. Implement the ***top-bottom spanning-cluster rule*** (for $b=2$ only). The new site that substitutes the (2$\\times$ 2) block is occupied when a cluster exists that connects the top with the bottom (all blocks with 4 and 3 occupied sites and 2 of the blocks with 2 occupied sites). Locate the corresponding non-trivial fix point and compare with the theoretical value derived from $R_b(p)$. \n",
    "\n",
    "3. Calculate the critical exponent $\\nu$, that describes the power law behaviour of the correlation length $\\xi$ close to the critical occupation probability $p_c$: $\\xi(p) \\propto |p - p_c|^{-\\nu}$ for both cases, the majority and top-bottom spanning-cluster rule and compare with the correct values. For 2D lattices $\\nu = 4/3$ and for 2D square lattices $p_c \\approx 0.5927$.\n",
    "\n",
    "\n",
    "4. For your assignment, you are asked to look at the ***spanning cluster rule*** (that takes into account clusters that span from top to bottom **and** left to right.) \n",
    "\n",
    "* Derive $R_b(p)$ as a 4th degree polynomial in $p$ and find the three fixed points of this transformation. What are the correlation lengths corresponding to the fixed points? \n",
    "* Implement this rule. Find an approximation of the non-trivial fixed point using your program. \n",
    "* Describe the associated renormalization group transformation flow in $p$-space.\n",
    "* Compute the critical exponent $\\nu$. \n",
    "* Explain why the real-space transformation procedure does not yield the correct value of $\\nu$ and $p_c$.\n"
   ]
  },
  {
   "cell_type": "code",
   "execution_count": null,
   "metadata": {},
   "outputs": [],
   "source": [
    "import numpy as np\n",
    "import matplotlib.pyplot as plt\n",
    "import random as ran\n",
    "\n",
    "from numba import jit # just-in-time compiler\n",
    "import timeit\n",
    "\n",
    "start = timeit.default_timer()\n",
    "\n",
    "#turn inline plotting on in the Jupyter notebook\n",
    "%matplotlib inline  \n",
    "\n",
    "iSeed = None#'iSeed'\n",
    "ran.seed(iSeed)\n",
    "\n",
    "# ------------------------ INPUT -------------------------------------------\n",
    "\n",
    "b       = 3            # scaling factor, should be odd number for majority rule, set to 2 for top-bottom spanning-cluster rule\n",
    "NLength = b**7         # Lattice size (NLength x NLength)\n",
    "prob    = 0.7          # occupation probability\n",
    "Nren    = 4            # number of renormalization steps\n",
    "\n",
    "print(\"original length of square lattice\", NLength)\n",
    "\n",
    "# ---------------- function for renormalization, using majority rule --------\n",
    "#NOTE: b should be odd number\n",
    "@jit(nopython=True) #compile to machine code \n",
    "def LatticeRenMaj(L, b, lattice):\n",
    "    Lnew = int(L/b)\n",
    "    newlattice = np.empty((Lnew, Lnew))\n",
    "    maj = int(b*b/2) + 1\n",
    "    for j in range(Lnew):\n",
    "        for i in range(Lnew):\n",
    "            #majority rule\n",
    "            sum = 0.\n",
    "            for k in range(b):\n",
    "                for l in range(b):\n",
    "                    sum += lattice[b*i+k,b*j+l]\n",
    "            occ = int(sum/maj)\n",
    "            newlattice[i,j] = occ\n",
    "    return newlattice, Lnew\n",
    "\n",
    "# ---------------- function for renormalization, using top-down spanning rule --------\n",
    "#renormalization, spanning cluster, top-bottom (do it for b=2 only)\n",
    "@jit(nopython=True) #compile to machine code \n",
    "def LatticeRenSpanTopDown(L,b,lattice):\n",
    "    #...insert your code here...\n",
    "    return newlattice, Lnew\n",
    "\n",
    "\n",
    "# -------- Initialization of lattice ----------------\n",
    "\n",
    "Lattice = np.empty((NLength, NLength))\n",
    "\n",
    "for j in range(NLength):\n",
    "    for i in range(NLength):\n",
    "        occ = 1\n",
    "        r = ran.random() \n",
    "        if (r > prob): \n",
    "            occ = 0  \n",
    "        Lattice[i][j] = occ\n",
    " \n",
    "\n",
    "#upper left window of lattice that is shown (size of lattice in last renormalization step)\n",
    "Lwindow = int(NLength/b**Nren) \n",
    "\n",
    "#-------- renormalization loop ----------------\n",
    "\n",
    "for i in range(Nren):\n",
    "    print(NLength)\n",
    "    plt.matshow(Lattice[0:Lwindow,0:Lwindow],vmin=0, vmax=1)\n",
    "    Latticenew, Lnew = LatticeRenMaj(NLength,b,Lattice) \n",
    "    Lattice = Latticenew\n",
    "    NLength = Lnew\n",
    "    \n",
    "stop = timeit.default_timer()\n",
    "print('Execution time:', stop-start, 'seconds')\n",
    "    "
   ]
  },
  {
   "cell_type": "markdown",
   "metadata": {},
   "source": [
    "Let's plot the renormalizartion group transformation $R_b(p)$ to check the fix point."
   ]
  },
  {
   "cell_type": "code",
   "execution_count": null,
   "metadata": {},
   "outputs": [],
   "source": [
    "# ----- R_b(p) - renormalization group transformation ----\n",
    "import math\n",
    "\n",
    "#R_b(p) for the majority rule, b=3\n",
    "def rgt_maj(p):\n",
    "    sum = 0 \n",
    "    for i in range(5):\n",
    "        sum += p**(9-i)*(1-p)**i*math.factorial(9)/math.factorial(i)/math.factorial(9-i)\n",
    "    return sum\n",
    "\n",
    "\n",
    "#plot\n",
    "pvals = np.arange(0,1,0.01)\n",
    "plt.plot(pvals,rgt_maj(pvals))\n",
    "plt.plot(pvals,pvals)\n",
    "plt.title(\"RGT for square lattice, b=3, majority rule\")\n",
    "plt.xlabel(\"occupation probability $p$\")\n",
    "plt.ylabel(\"$R_b(p)$\")\n",
    "plt.grid(True)\n"
   ]
  }
 ],
 "metadata": {
  "kernelspec": {
   "display_name": "Python 3.10.4 64-bit",
   "language": "python",
   "name": "python3"
  },
  "language_info": {
   "codemirror_mode": {
    "name": "ipython",
    "version": 3
   },
   "file_extension": ".py",
   "mimetype": "text/x-python",
   "name": "python",
   "nbconvert_exporter": "python",
   "pygments_lexer": "ipython3",
   "version": "3.10.4"
  },
  "vscode": {
   "interpreter": {
    "hash": "aee8b7b246df8f9039afb4144a1f6fd8d2ca17a180786b69acc140d282b71a49"
   }
  }
 },
 "nbformat": 4,
 "nbformat_minor": 2
}
