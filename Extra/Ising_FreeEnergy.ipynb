{
 "cells": [
  {
   "cell_type": "markdown",
   "metadata": {},
   "source": [
    "# Ising Model in 1D\n",
    "\n",
    "For the Ising model on a 1D lattice we were able to find the partition function and thus the free energy per spin:\n",
    "\n",
    "$f(T,H) = -k_BT \\left [ \\beta J + \\ln(\\cosh(\\beta H)) + \\sqrt{\\sinh^2(\\beta H) + \\exp(-4 \\beta J)} \\right ]$\n",
    "\n",
    "First and second derivation of the free energy per spin by the magnetic field $H$ gives us the magnetization per spin $m(T,H)$ \n",
    "and the susceptibility $\\chi(T,H)$:\n",
    "\n",
    "$m(T,H)  = \\frac{\\sinh (\\beta H)}{\\sqrt{\\sinh^2(\\beta H) + \\exp(-4 \\beta J)}}$\n",
    "\n",
    "and \n",
    "\n",
    "$\\chi(T,H) = \\beta \\frac{\\cosh(\\beta H) \\exp(-4 \\beta J)}{(\\sinh^2(\\beta H) + \\exp(-4 \\beta J))^{3/2}}$\n",
    "\n",
    "An implementation of the free energy function is given together with 3D plots of $f(T,H)$ and 2D projections for different temperatures $T$ (which might actually give you better insight than the 3D plots - or you are better with playig with the parameter for the 3D plot than I am ...).\n",
    "\n",
    "\n",
    "To do list (this will be part of your assignment):\n",
    "\n",
    "- Interpret the $f(T,H)$ plots. What happens for small $T$? What happens if you vary the coupling strength $J$? \n",
    "- Which case do you recover for $J=0$? Plot $f(T,H)$ for this case and explain the observed difference.\n",
    "- Implement the magnetization $m(T,H)$ and susceptibility $\\chi(T,H)$.\n",
    "- Study and interpret $m(T,H)$ and $\\chi(T,H)$ for $T\\rightarrow 0$. \n",
    "- Show that the susceptibility per spin is related to the variance of the total magnetization via\n",
    "$k_B T \\chi(T,0) = \\frac{1}{N} \\left(\\langle M^2\\rangle - \\langle M\\rangle^2\\right)$.\n",
    "- Simplify the above formula for $\\chi(T,H)$ for $H=0$.\n",
    "- Use this to plot $k_B T \\chi(T,0)$ against $\\frac{k_B T}{J}$ and interpret the two limiting cases of \n",
    "$\\frac{k_B T}{J}\\rightarrow 0$ and $\\frac{k_B T}{J}\\rightarrow \\infty$.\n",
    "- Derive the formula for the spin-spin correlation function $g(r_i,r_j) = \\tanh^r (\\beta J)$ for $H=0$ where $r$ is the distance between the positions of the two spins $r_{i/j}$.\n",
    "- Use the formula to define a correlation length $\\xi(T, H=0)$. \n",
    "- Program this correlation length $\\xi(T, H=0)$, make a plot and interpret the behaviour found.\n",
    "\n"
   ]
  },
  {
   "cell_type": "code",
   "execution_count": null,
   "metadata": {},
   "outputs": [],
   "source": [
    "from mpl_toolkits import mplot3d\n",
    "\n",
    "import numpy as np\n",
    "import matplotlib.pyplot as plt\n",
    "import random as ran\n",
    "\n",
    "# note: we set t = k_B T\n",
    "#interaction strength\n",
    "J = 0.1\n",
    "\n",
    "def free_energy_1D(t,H,J):\n",
    "    return -t*(J/t + np.log(np.cosh(H/t) + np.sqrt(np.sinh(H/t)**2 + np.exp(-4.*J/t))))\n",
    "\n",
    "t = np.linspace(0.1, 1, 30)\n",
    "h = np.linspace(-1, 1, 30)\n",
    "\n",
    "T, H = np.meshgrid(t, h)\n",
    "F = free_energy_1D(T, H, J)\n",
    "\n",
    "#fig = plt.figure()\n",
    "#ax = plt.axes(projection='3d')\n",
    "#ax.contour3D(T, H, F, 50, cmap='binary')\n",
    "#ax.set_xlabel('t')\n",
    "#ax.set_ylabel('H')\n",
    "#ax.set_zlabel('F')\n",
    "\n",
    "\n",
    "fig = plt.figure()\n",
    "ax = plt.axes(projection='3d')\n",
    "#ax.plot_wireframe(T, H, F, color='black')\n",
    "#ax.set_title('wireframe')\n",
    "ax.view_init(10, 170)\n",
    "ax.set_xlabel('t')\n",
    "ax.set_ylabel('H')\n",
    "ax.set_zlabel('F')\n",
    "\n",
    "\n",
    "\n",
    "\n",
    "ax.plot_surface(T, H, F, rstride=1, cstride=1,\n",
    "                cmap='viridis', edgecolor='none')\n",
    "ax.set_title('surface');\n",
    "#ax.view_init(10, 140)\n",
    "\n",
    "plt.show\n"
   ]
  },
  {
   "cell_type": "code",
   "execution_count": null,
   "metadata": {},
   "outputs": [],
   "source": [
    "#2D projection\n",
    "t = np.linspace(0.01, 1, 100)\n",
    "h = np.linspace(-1, 1, 1000)\n",
    "\n",
    "plt.plot(h,free_energy_1D(0.01, h, 0.1),label=\"t=0.01\")\n",
    "plt.plot(h,free_energy_1D(0.1, h, 0.1),label=\"t=0.1\")\n",
    "plt.plot(h,free_energy_1D(0.5, h, 0.1),label=\"t=0.5\")\n",
    "plt.plot(h,free_energy_1D(1., h, 0.1),label=\"t=1.\")\n",
    "plt.plot(h,free_energy_1D(1.5, h, 0.1),label=\"t=10.\")\n",
    "plt.legend()"
   ]
  }
 ],
 "metadata": {
  "interpreter": {
   "hash": "398dc28c06ad810e77de546bbdfa897a6ee0b83e59a5207339dda01a7843e01d"
  },
  "kernelspec": {
   "display_name": "Python 3.6.5 64-bit ('base': conda)",
   "language": "python",
   "name": "python3"
  },
  "language_info": {
   "codemirror_mode": {
    "name": "ipython",
    "version": 3
   },
   "file_extension": ".py",
   "mimetype": "text/x-python",
   "name": "python",
   "nbconvert_exporter": "python",
   "pygments_lexer": "ipython3",
   "version": "3.6.5"
  }
 },
 "nbformat": 4,
 "nbformat_minor": 2
}
